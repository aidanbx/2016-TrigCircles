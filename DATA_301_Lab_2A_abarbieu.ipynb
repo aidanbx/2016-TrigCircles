{
  "nbformat": 4,
  "nbformat_minor": 0,
  "metadata": {
    "kernelspec": {
      "display_name": "Python 3",
      "language": "python",
      "name": "python3"
    },
    "language_info": {
      "codemirror_mode": {
        "name": "ipython",
        "version": 3
      },
      "file_extension": ".py",
      "mimetype": "text/x-python",
      "name": "python",
      "nbconvert_exporter": "python",
      "pygments_lexer": "ipython3",
      "version": "3.6.8"
    },
    "colab": {
      "name": "DATA 301 Lab 2A - abarbieu",
      "provenance": [],
      "collapsed_sections": [],
      "include_colab_link": true
    }
  },
  "cells": [
    {
      "cell_type": "markdown",
      "metadata": {
        "id": "view-in-github",
        "colab_type": "text"
      },
      "source": [
        "<a href=\"https://colab.research.google.com/github/abarbieu/2016-TrigCircles/blob/master/DATA_301_Lab_2A_abarbieu.ipynb\" target=\"_parent\"><img src=\"https://colab.research.google.com/assets/colab-badge.svg\" alt=\"Open In Colab\"/></a>"
      ]
    },
    {
      "cell_type": "markdown",
      "metadata": {
        "id": "TWcmdY-v6AD1"
      },
      "source": [
        "# Shark Tank\n",
        "\n",
        "_Shark Tank_ is a reality TV show. Contestants present their idea for a company to a panel of investors (a.k.a. \"sharks\"), who then decide whether or not to invest in that company.  The investors give a certain amount of money in exchange for a percentage stake in the company (\"equity\"). If you are not familiar with the show, you may want to watch part of an episode [here](http://abc.go.com/shows/shark-tank) to get a sense of how it works.\n",
        "\n",
        "The data that you will examine in this lab contains data about all contestants from the first 6 seasons of the show, including:\n",
        "- the name and industry of the proposed company\n",
        "- whether or not it was funded (i.e., the \"Deal\" column)\n",
        "- which sharks chose to invest in the venture (N.B. There are 7 regular sharks, not including \"Guest\". Each shark has a column in the data set, labeled by their last name.)\n",
        "- if funded, the amount of money the sharks put in and the percentage equity they got in return\n",
        "\n",
        "To earn full credit on this lab, you should:\n",
        "- use built-in `pandas` methods (like `.sum()` and `.max()`) instead of writing a for loop over a `DataFrame` or `Series`\n",
        "- use the split-apply-combine pattern wherever possible\n",
        "\n",
        "Of course, if you can't think of a vectorized solution, a `for` loop is still better than no solution at all!"
      ]
    },
    {
      "cell_type": "code",
      "metadata": {
        "id": "xWVgjFTV6AD4"
      },
      "source": [
        "import pandas as pd"
      ],
      "execution_count": null,
      "outputs": []
    },
    {
      "cell_type": "markdown",
      "metadata": {
        "id": "PA8nrH5u6AD7"
      },
      "source": [
        "## Question 0. Getting and Cleaning the Data"
      ]
    },
    {
      "cell_type": "markdown",
      "metadata": {
        "id": "jZkcwwrJ6AD7"
      },
      "source": [
        "The data is stored in the CSV file `https://dlsun.github.io/pods/data/sharktank.csv`. Read in the data into a Pandas `DataFrame`.\n",
        "\n"
      ]
    },
    {
      "cell_type": "code",
      "metadata": {
        "id": "4GvnXJRT6AD8",
        "colab": {
          "base_uri": "https://localhost:8080/",
          "height": 521
        },
        "outputId": "824f9a6d-17e0-4809-e749-9637400e4a94"
      },
      "source": [
        "pd.read_csv(\"https://dlsun.github.io/pods/data/sharktank.csv\")"
      ],
      "execution_count": null,
      "outputs": [
        {
          "output_type": "execute_result",
          "data": {
            "text/html": [
              "<div>\n",
              "<style scoped>\n",
              "    .dataframe tbody tr th:only-of-type {\n",
              "        vertical-align: middle;\n",
              "    }\n",
              "\n",
              "    .dataframe tbody tr th {\n",
              "        vertical-align: top;\n",
              "    }\n",
              "\n",
              "    .dataframe thead th {\n",
              "        text-align: right;\n",
              "    }\n",
              "</style>\n",
              "<table border=\"1\" class=\"dataframe\">\n",
              "  <thead>\n",
              "    <tr style=\"text-align: right;\">\n",
              "      <th></th>\n",
              "      <th>Season</th>\n",
              "      <th>No. in series</th>\n",
              "      <th>Company</th>\n",
              "      <th>Deal</th>\n",
              "      <th>Industry</th>\n",
              "      <th>Entrepreneur Gender</th>\n",
              "      <th>Amount</th>\n",
              "      <th>Equity</th>\n",
              "      <th>Corcoran</th>\n",
              "      <th>Cuban</th>\n",
              "      <th>Greiner</th>\n",
              "      <th>Herjavec</th>\n",
              "      <th>John</th>\n",
              "      <th>O'Leary</th>\n",
              "      <th>Harrington</th>\n",
              "      <th>Guest</th>\n",
              "      <th>Details / Notes</th>\n",
              "    </tr>\n",
              "  </thead>\n",
              "  <tbody>\n",
              "    <tr>\n",
              "      <th>0</th>\n",
              "      <td>1.0</td>\n",
              "      <td>1.0</td>\n",
              "      <td>Ava the Elephant</td>\n",
              "      <td>Yes</td>\n",
              "      <td>Healthcare</td>\n",
              "      <td>Female</td>\n",
              "      <td>$50,000</td>\n",
              "      <td>55%</td>\n",
              "      <td>1.0</td>\n",
              "      <td>NaN</td>\n",
              "      <td>NaN</td>\n",
              "      <td>NaN</td>\n",
              "      <td>NaN</td>\n",
              "      <td>NaN</td>\n",
              "      <td>NaN</td>\n",
              "      <td>NaN</td>\n",
              "      <td>NaN</td>\n",
              "    </tr>\n",
              "    <tr>\n",
              "      <th>1</th>\n",
              "      <td>1.0</td>\n",
              "      <td>1.0</td>\n",
              "      <td>Mr. Tod's Pie Factory</td>\n",
              "      <td>Yes</td>\n",
              "      <td>Food and Beverage</td>\n",
              "      <td>Male</td>\n",
              "      <td>$460,000</td>\n",
              "      <td>50%</td>\n",
              "      <td>1.0</td>\n",
              "      <td>NaN</td>\n",
              "      <td>NaN</td>\n",
              "      <td>NaN</td>\n",
              "      <td>1.0</td>\n",
              "      <td>NaN</td>\n",
              "      <td>NaN</td>\n",
              "      <td>NaN</td>\n",
              "      <td>NaN</td>\n",
              "    </tr>\n",
              "    <tr>\n",
              "      <th>2</th>\n",
              "      <td>1.0</td>\n",
              "      <td>1.0</td>\n",
              "      <td>Wispots</td>\n",
              "      <td>No</td>\n",
              "      <td>Business Services</td>\n",
              "      <td>Male</td>\n",
              "      <td>NaN</td>\n",
              "      <td>NaN</td>\n",
              "      <td>NaN</td>\n",
              "      <td>NaN</td>\n",
              "      <td>NaN</td>\n",
              "      <td>NaN</td>\n",
              "      <td>NaN</td>\n",
              "      <td>NaN</td>\n",
              "      <td>NaN</td>\n",
              "      <td>NaN</td>\n",
              "      <td>NaN</td>\n",
              "    </tr>\n",
              "    <tr>\n",
              "      <th>3</th>\n",
              "      <td>1.0</td>\n",
              "      <td>1.0</td>\n",
              "      <td>College Foxes Packing Boxes</td>\n",
              "      <td>No</td>\n",
              "      <td>Lifestyle / Home</td>\n",
              "      <td>Male</td>\n",
              "      <td>NaN</td>\n",
              "      <td>NaN</td>\n",
              "      <td>NaN</td>\n",
              "      <td>NaN</td>\n",
              "      <td>NaN</td>\n",
              "      <td>NaN</td>\n",
              "      <td>NaN</td>\n",
              "      <td>NaN</td>\n",
              "      <td>NaN</td>\n",
              "      <td>NaN</td>\n",
              "      <td>NaN</td>\n",
              "    </tr>\n",
              "    <tr>\n",
              "      <th>4</th>\n",
              "      <td>1.0</td>\n",
              "      <td>1.0</td>\n",
              "      <td>Ionic Ear</td>\n",
              "      <td>No</td>\n",
              "      <td>Uncertain / Other</td>\n",
              "      <td>Male</td>\n",
              "      <td>NaN</td>\n",
              "      <td>NaN</td>\n",
              "      <td>NaN</td>\n",
              "      <td>NaN</td>\n",
              "      <td>NaN</td>\n",
              "      <td>NaN</td>\n",
              "      <td>NaN</td>\n",
              "      <td>NaN</td>\n",
              "      <td>NaN</td>\n",
              "      <td>NaN</td>\n",
              "      <td>NaN</td>\n",
              "    </tr>\n",
              "    <tr>\n",
              "      <th>...</th>\n",
              "      <td>...</td>\n",
              "      <td>...</td>\n",
              "      <td>...</td>\n",
              "      <td>...</td>\n",
              "      <td>...</td>\n",
              "      <td>...</td>\n",
              "      <td>...</td>\n",
              "      <td>...</td>\n",
              "      <td>...</td>\n",
              "      <td>...</td>\n",
              "      <td>...</td>\n",
              "      <td>...</td>\n",
              "      <td>...</td>\n",
              "      <td>...</td>\n",
              "      <td>...</td>\n",
              "      <td>...</td>\n",
              "      <td>...</td>\n",
              "    </tr>\n",
              "    <tr>\n",
              "      <th>490</th>\n",
              "      <td>6.0</td>\n",
              "      <td>28.0</td>\n",
              "      <td>You Kick Ass</td>\n",
              "      <td>Yes</td>\n",
              "      <td>Children / Education</td>\n",
              "      <td>Female</td>\n",
              "      <td>$100,000</td>\n",
              "      <td>10%</td>\n",
              "      <td>NaN</td>\n",
              "      <td>1.0</td>\n",
              "      <td>NaN</td>\n",
              "      <td>NaN</td>\n",
              "      <td>NaN</td>\n",
              "      <td>NaN</td>\n",
              "      <td>NaN</td>\n",
              "      <td>NaN</td>\n",
              "      <td>NaN</td>\n",
              "    </tr>\n",
              "    <tr>\n",
              "      <th>491</th>\n",
              "      <td>6.0</td>\n",
              "      <td>29.0</td>\n",
              "      <td>Shark Wheel</td>\n",
              "      <td>Yes</td>\n",
              "      <td>Fitness / Sports</td>\n",
              "      <td>Male</td>\n",
              "      <td>$225,000</td>\n",
              "      <td>8%</td>\n",
              "      <td>NaN</td>\n",
              "      <td>1.0</td>\n",
              "      <td>NaN</td>\n",
              "      <td>1.0</td>\n",
              "      <td>NaN</td>\n",
              "      <td>NaN</td>\n",
              "      <td>NaN</td>\n",
              "      <td>1.0</td>\n",
              "      <td>10% royalty until $500K; then converts to 5% e...</td>\n",
              "    </tr>\n",
              "    <tr>\n",
              "      <th>492</th>\n",
              "      <td>6.0</td>\n",
              "      <td>29.0</td>\n",
              "      <td>Gato Cafe</td>\n",
              "      <td>No</td>\n",
              "      <td>Uncertain / Other</td>\n",
              "      <td>Female</td>\n",
              "      <td>NaN</td>\n",
              "      <td>NaN</td>\n",
              "      <td>NaN</td>\n",
              "      <td>NaN</td>\n",
              "      <td>NaN</td>\n",
              "      <td>NaN</td>\n",
              "      <td>NaN</td>\n",
              "      <td>NaN</td>\n",
              "      <td>NaN</td>\n",
              "      <td>NaN</td>\n",
              "      <td>NaN</td>\n",
              "    </tr>\n",
              "    <tr>\n",
              "      <th>493</th>\n",
              "      <td>6.0</td>\n",
              "      <td>29.0</td>\n",
              "      <td>Sway Motorsports</td>\n",
              "      <td>Yes</td>\n",
              "      <td>Green/CleanTech</td>\n",
              "      <td>Male</td>\n",
              "      <td>$300,000</td>\n",
              "      <td>20%</td>\n",
              "      <td>NaN</td>\n",
              "      <td>1.0</td>\n",
              "      <td>NaN</td>\n",
              "      <td>NaN</td>\n",
              "      <td>NaN</td>\n",
              "      <td>NaN</td>\n",
              "      <td>NaN</td>\n",
              "      <td>NaN</td>\n",
              "      <td>NaN</td>\n",
              "    </tr>\n",
              "    <tr>\n",
              "      <th>494</th>\n",
              "      <td>6.0</td>\n",
              "      <td>29.0</td>\n",
              "      <td>Spikeball</td>\n",
              "      <td>Yes</td>\n",
              "      <td>Fitness / Sports</td>\n",
              "      <td>Male</td>\n",
              "      <td>$500,000</td>\n",
              "      <td>20%</td>\n",
              "      <td>NaN</td>\n",
              "      <td>NaN</td>\n",
              "      <td>NaN</td>\n",
              "      <td>NaN</td>\n",
              "      <td>1.0</td>\n",
              "      <td>NaN</td>\n",
              "      <td>NaN</td>\n",
              "      <td>NaN</td>\n",
              "      <td>NaN</td>\n",
              "    </tr>\n",
              "  </tbody>\n",
              "</table>\n",
              "<p>495 rows × 17 columns</p>\n",
              "</div>"
            ],
            "text/plain": [
              "     Season  ...                                    Details / Notes\n",
              "0       1.0  ...                                                NaN\n",
              "1       1.0  ...                                                NaN\n",
              "2       1.0  ...                                                NaN\n",
              "3       1.0  ...                                                NaN\n",
              "4       1.0  ...                                                NaN\n",
              "..      ...  ...                                                ...\n",
              "490     6.0  ...                                                NaN\n",
              "491     6.0  ...  10% royalty until $500K; then converts to 5% e...\n",
              "492     6.0  ...                                                NaN\n",
              "493     6.0  ...                                                NaN\n",
              "494     6.0  ...                                                NaN\n",
              "\n",
              "[495 rows x 17 columns]"
            ]
          },
          "metadata": {
            "tags": []
          },
          "execution_count": 4
        }
      ]
    },
    {
      "cell_type": "markdown",
      "metadata": {
        "id": "OvCrC2ho6AEA"
      },
      "source": [
        "There is one column for each of the sharks. A 1 indicates that they chose to invest in that company, while a missing value indicates that they did not choose to invest in that company. Notice that these missing values show up as NaNs when we read in the data. Fill in these missing values with zeros. Other columns may also contain NaNs; be careful not to fill those columns with zeros, or you may end up with strange results down the line."
      ]
    },
    {
      "cell_type": "code",
      "metadata": {
        "id": "wtIkax6c6AEB"
      },
      "source": [
        "# YOUR CODE HERE"
      ],
      "execution_count": null,
      "outputs": []
    },
    {
      "cell_type": "markdown",
      "metadata": {
        "id": "b8FlEYg76AED"
      },
      "source": [
        "Notice that Amount and Equity are currently being treated as categorical variables (`dtype: object`). Can you figure out why this is? Clean up these columns and cast them to numeric types (i.e., a `dtype` of `int` or `float`) because we'll need to perform mathematical operations on these columns."
      ]
    },
    {
      "cell_type": "code",
      "metadata": {
        "id": "F37ulZeb6AEE"
      },
      "source": [
        "# YOUR CODE HERE"
      ],
      "execution_count": null,
      "outputs": []
    },
    {
      "cell_type": "markdown",
      "metadata": {
        "id": "zXjBDsQl6AEH"
      },
      "source": [
        "## Question 1. Which Company was Worth the Most?"
      ]
    },
    {
      "cell_type": "markdown",
      "metadata": {
        "id": "dFvKv4QJ6AEI"
      },
      "source": [
        "The valuation of a company is how much it is worth. If someone invests \\$10,000 for a 40% equity stake in the company, then this means the company must be valued at \\$25,000, since 40% of \\$25,000 is \\$10,000.\n",
        "\n",
        "Calculate the valuation of each company that was funded. Which company was most valuable? Is it the same as the company that received the largest total investment from the sharks?"
      ]
    },
    {
      "cell_type": "code",
      "metadata": {
        "id": "Hw6xcTSz6AEJ"
      },
      "source": [
        "# YOUR CODE HERE"
      ],
      "execution_count": null,
      "outputs": []
    },
    {
      "cell_type": "markdown",
      "metadata": {
        "id": "ZxATH5XX6AEL"
      },
      "source": [
        "**YOUR EXPLANATION HERE**"
      ]
    },
    {
      "cell_type": "markdown",
      "metadata": {
        "id": "ADyYjzcf6AEM"
      },
      "source": [
        "## Question 2. Which Shark Invested the Most?"
      ]
    },
    {
      "cell_type": "markdown",
      "metadata": {
        "id": "Q1aeyu6v6AEM"
      },
      "source": [
        "Calculate the total amount of money that each shark invested over the 6 seasons. Which shark invested the most total money over the 6 seasons?\n",
        "\n",
        "_Hint:_ If $n$ sharks funded a given venture, then the amount that each shark invested is the total amount divided by $n$."
      ]
    },
    {
      "cell_type": "code",
      "metadata": {
        "id": "a5MrleWP6AEN"
      },
      "source": [
        "# ENTER CODE HERE."
      ],
      "execution_count": null,
      "outputs": []
    },
    {
      "cell_type": "markdown",
      "metadata": {
        "id": "Dj9nfLVm6AEQ"
      },
      "source": [
        "**YOUR EXPLANATION HERE**"
      ]
    },
    {
      "cell_type": "markdown",
      "metadata": {
        "id": "0YCCe77s6AEQ"
      },
      "source": [
        "## Question 3. Do the Sharks Prefer Certain Industries?\n",
        "\n",
        "Calculate the funding rate (the proportion of companies that were funded) for each industry. Make a visualization showing this information."
      ]
    },
    {
      "cell_type": "code",
      "metadata": {
        "id": "bM_rL2Og6AER"
      },
      "source": [
        "# ENTER CODE HERE."
      ],
      "execution_count": null,
      "outputs": []
    },
    {
      "cell_type": "markdown",
      "metadata": {
        "id": "pEjLlugf6AET"
      },
      "source": [
        "**YOUR EXPLANATION HERE**"
      ]
    },
    {
      "cell_type": "markdown",
      "metadata": {
        "id": "hWkCOchf6AEU"
      },
      "source": [
        "## Submission Instructions\n",
        "\n",
        "- Copy this notebook to your own Drive, if you have not already.\n",
        "- Restart this notebook and run the cells from beginning to end. \n",
        "  - Go to Runtime > Restart and Run All.\n",
        "- Rename this notebook by clicking on \"DATA 301 Lab 2A - YOUR NAMES HERE\" at the very top of this page. Replace \"YOUR NAMES HERE\" with the first and last names of you (and your partners, for Phase 2).\n",
        "- Get the link to your notebook:\n",
        "  - Click on \"Share\" at the top-right. \n",
        "  - Change the settings to \"Anyone with the link can view\". \n",
        "  - Copy the sharing link into Canvas."
      ]
    }
  ]
}